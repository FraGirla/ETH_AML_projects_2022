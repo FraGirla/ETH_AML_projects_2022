{
 "cells": [
  {
   "cell_type": "code",
   "execution_count": 10,
   "metadata": {
    "collapsed": true
   },
   "outputs": [],
   "source": [
    "import pandas as pd\n",
    "from autofeat import FeatureSelector\n",
    "from sklearn.feature_selection import VarianceThreshold"
   ]
  },
  {
   "cell_type": "code",
   "execution_count": 11,
   "outputs": [
    {
     "data": {
      "text/plain": "               x0            x1           x2             x3          x4  \\\nid                                                                        \n0.0  14168.823171  10514.380717  3316.149698   94230.695124  102.386606   \n1.0  17757.037554           NaN  4101.016273   92959.527633         NaN   \n2.0  14226.656663  11029.642499          NaN  124055.600561  100.542483   \n3.0   8766.012436   7384.202998  2147.308418  100157.719990  104.855061   \n4.0  13801.016418  13269.493652  3408.316953   92048.527786  103.759758   \n\n             x5            x6            x7            x8         x9  ...  \\\nid                                                                    ...   \n0.0   92.677127  11108.748199  10866.505510  10837.622093  10.227734  ...   \n1.0   99.855168  10013.959449  10826.607494  10076.101597  11.436970  ...   \n2.0   92.860892           NaN  10492.342868           NaN  10.810076  ...   \n3.0  101.929026  10050.049932  10499.521099  10525.030989  10.092109  ...   \n4.0   95.789235   9667.353978  10750.783106  10618.800750  12.006773  ...   \n\n             x822          x823        x824        x825        x826  \\\nid                                                                    \n0.0           NaN  12352.094085  846.014651  105.132144  102.112809   \n1.0           NaN  16198.071494  776.084467  106.385590  103.472030   \n2.0  10329.704431  13976.063780  737.040332  103.671234  109.458246   \n3.0  10008.251395   6212.127347  329.044233  105.084488  104.858546   \n4.0  10095.782015  13772.061493         NaN         NaN  100.369834   \n\n            x827      x828         x829         x830          x831  \nid                                                                  \n0.0  2090.004260  2.691845  1234.374109  1000.784475   9285.751272  \n1.0  2474.051881  2.287976          NaN  1012.626705  11750.284764  \n2.0  2656.083281  2.843706   888.353607  1048.810385   9553.922728  \n3.0  1097.785204  2.732257   927.752967  1048.357330           NaN  \n4.0  2693.053231  2.702908  1471.354073  1071.284484   9423.533063  \n\n[5 rows x 832 columns]",
      "text/html": "<div>\n<style scoped>\n    .dataframe tbody tr th:only-of-type {\n        vertical-align: middle;\n    }\n\n    .dataframe tbody tr th {\n        vertical-align: top;\n    }\n\n    .dataframe thead th {\n        text-align: right;\n    }\n</style>\n<table border=\"1\" class=\"dataframe\">\n  <thead>\n    <tr style=\"text-align: right;\">\n      <th></th>\n      <th>x0</th>\n      <th>x1</th>\n      <th>x2</th>\n      <th>x3</th>\n      <th>x4</th>\n      <th>x5</th>\n      <th>x6</th>\n      <th>x7</th>\n      <th>x8</th>\n      <th>x9</th>\n      <th>...</th>\n      <th>x822</th>\n      <th>x823</th>\n      <th>x824</th>\n      <th>x825</th>\n      <th>x826</th>\n      <th>x827</th>\n      <th>x828</th>\n      <th>x829</th>\n      <th>x830</th>\n      <th>x831</th>\n    </tr>\n    <tr>\n      <th>id</th>\n      <th></th>\n      <th></th>\n      <th></th>\n      <th></th>\n      <th></th>\n      <th></th>\n      <th></th>\n      <th></th>\n      <th></th>\n      <th></th>\n      <th></th>\n      <th></th>\n      <th></th>\n      <th></th>\n      <th></th>\n      <th></th>\n      <th></th>\n      <th></th>\n      <th></th>\n      <th></th>\n      <th></th>\n    </tr>\n  </thead>\n  <tbody>\n    <tr>\n      <th>0.0</th>\n      <td>14168.823171</td>\n      <td>10514.380717</td>\n      <td>3316.149698</td>\n      <td>94230.695124</td>\n      <td>102.386606</td>\n      <td>92.677127</td>\n      <td>11108.748199</td>\n      <td>10866.505510</td>\n      <td>10837.622093</td>\n      <td>10.227734</td>\n      <td>...</td>\n      <td>NaN</td>\n      <td>12352.094085</td>\n      <td>846.014651</td>\n      <td>105.132144</td>\n      <td>102.112809</td>\n      <td>2090.004260</td>\n      <td>2.691845</td>\n      <td>1234.374109</td>\n      <td>1000.784475</td>\n      <td>9285.751272</td>\n    </tr>\n    <tr>\n      <th>1.0</th>\n      <td>17757.037554</td>\n      <td>NaN</td>\n      <td>4101.016273</td>\n      <td>92959.527633</td>\n      <td>NaN</td>\n      <td>99.855168</td>\n      <td>10013.959449</td>\n      <td>10826.607494</td>\n      <td>10076.101597</td>\n      <td>11.436970</td>\n      <td>...</td>\n      <td>NaN</td>\n      <td>16198.071494</td>\n      <td>776.084467</td>\n      <td>106.385590</td>\n      <td>103.472030</td>\n      <td>2474.051881</td>\n      <td>2.287976</td>\n      <td>NaN</td>\n      <td>1012.626705</td>\n      <td>11750.284764</td>\n    </tr>\n    <tr>\n      <th>2.0</th>\n      <td>14226.656663</td>\n      <td>11029.642499</td>\n      <td>NaN</td>\n      <td>124055.600561</td>\n      <td>100.542483</td>\n      <td>92.860892</td>\n      <td>NaN</td>\n      <td>10492.342868</td>\n      <td>NaN</td>\n      <td>10.810076</td>\n      <td>...</td>\n      <td>10329.704431</td>\n      <td>13976.063780</td>\n      <td>737.040332</td>\n      <td>103.671234</td>\n      <td>109.458246</td>\n      <td>2656.083281</td>\n      <td>2.843706</td>\n      <td>888.353607</td>\n      <td>1048.810385</td>\n      <td>9553.922728</td>\n    </tr>\n    <tr>\n      <th>3.0</th>\n      <td>8766.012436</td>\n      <td>7384.202998</td>\n      <td>2147.308418</td>\n      <td>100157.719990</td>\n      <td>104.855061</td>\n      <td>101.929026</td>\n      <td>10050.049932</td>\n      <td>10499.521099</td>\n      <td>10525.030989</td>\n      <td>10.092109</td>\n      <td>...</td>\n      <td>10008.251395</td>\n      <td>6212.127347</td>\n      <td>329.044233</td>\n      <td>105.084488</td>\n      <td>104.858546</td>\n      <td>1097.785204</td>\n      <td>2.732257</td>\n      <td>927.752967</td>\n      <td>1048.357330</td>\n      <td>NaN</td>\n    </tr>\n    <tr>\n      <th>4.0</th>\n      <td>13801.016418</td>\n      <td>13269.493652</td>\n      <td>3408.316953</td>\n      <td>92048.527786</td>\n      <td>103.759758</td>\n      <td>95.789235</td>\n      <td>9667.353978</td>\n      <td>10750.783106</td>\n      <td>10618.800750</td>\n      <td>12.006773</td>\n      <td>...</td>\n      <td>10095.782015</td>\n      <td>13772.061493</td>\n      <td>NaN</td>\n      <td>NaN</td>\n      <td>100.369834</td>\n      <td>2693.053231</td>\n      <td>2.702908</td>\n      <td>1471.354073</td>\n      <td>1071.284484</td>\n      <td>9423.533063</td>\n    </tr>\n  </tbody>\n</table>\n<p>5 rows × 832 columns</p>\n</div>"
     },
     "execution_count": 11,
     "metadata": {},
     "output_type": "execute_result"
    }
   ],
   "source": [
    "raw_dataset_x = pd.read_csv('X_train.csv',index_col=['id'])\n",
    "X = raw_dataset_x.copy()\n",
    "X.head()"
   ],
   "metadata": {
    "collapsed": false
   }
  },
  {
   "cell_type": "code",
   "execution_count": 12,
   "outputs": [
    {
     "data": {
      "text/plain": "        y\nid       \n0.0  74.0\n1.0  51.0\n2.0  70.0\n3.0  52.0\n4.0  85.0",
      "text/html": "<div>\n<style scoped>\n    .dataframe tbody tr th:only-of-type {\n        vertical-align: middle;\n    }\n\n    .dataframe tbody tr th {\n        vertical-align: top;\n    }\n\n    .dataframe thead th {\n        text-align: right;\n    }\n</style>\n<table border=\"1\" class=\"dataframe\">\n  <thead>\n    <tr style=\"text-align: right;\">\n      <th></th>\n      <th>y</th>\n    </tr>\n    <tr>\n      <th>id</th>\n      <th></th>\n    </tr>\n  </thead>\n  <tbody>\n    <tr>\n      <th>0.0</th>\n      <td>74.0</td>\n    </tr>\n    <tr>\n      <th>1.0</th>\n      <td>51.0</td>\n    </tr>\n    <tr>\n      <th>2.0</th>\n      <td>70.0</td>\n    </tr>\n    <tr>\n      <th>3.0</th>\n      <td>52.0</td>\n    </tr>\n    <tr>\n      <th>4.0</th>\n      <td>85.0</td>\n    </tr>\n  </tbody>\n</table>\n</div>"
     },
     "execution_count": 12,
     "metadata": {},
     "output_type": "execute_result"
    }
   ],
   "source": [
    "raw_dataset_y = pd.read_csv('y_train.csv',index_col=['id'])\n",
    "y = raw_dataset_y.copy()\n",
    "y.head()"
   ],
   "metadata": {
    "collapsed": false
   }
  },
  {
   "cell_type": "code",
   "execution_count": 13,
   "outputs": [
    {
     "data": {
      "text/plain": "x0       91\nx1       84\nx2       88\nx3       91\nx4       74\n       ... \nx827    101\nx828     95\nx829     92\nx830     80\nx831     96\nLength: 832, dtype: int64"
     },
     "execution_count": 13,
     "metadata": {},
     "output_type": "execute_result"
    }
   ],
   "source": [
    "missing_values = X.isna().sum()\n",
    "missing_values"
   ],
   "metadata": {
    "collapsed": false
   }
  },
  {
   "cell_type": "code",
   "execution_count": 14,
   "outputs": [],
   "source": [
    "X = X.fillna(X.mean())"
   ],
   "metadata": {
    "collapsed": false
   }
  },
  {
   "cell_type": "code",
   "execution_count": 15,
   "outputs": [
    {
     "data": {
      "text/plain": "                 x0            x1           x2             x3           x4  \\\ncount   1212.000000   1212.000000  1212.000000    1212.000000  1212.000000   \nmean   15220.402957  10950.160761  3430.837498  100002.281022   105.070358   \nstd     2226.067754   1515.160528   427.016139    9336.184837     2.746611   \nmin     5636.623777   6764.060541  1849.453269   65828.916291   100.056578   \n25%    13931.809724   9926.530547  3170.385944   94358.738184   102.811093   \n50%    15220.402957  10950.160761  3430.837498  100002.281022   105.070358   \n75%    16485.603116  11751.038613  3668.158481  105531.874497   107.353976   \nmax    28273.690135  17777.338221  5622.951648  133145.632257   110.087261   \n\n                x5            x6            x7            x8           x9  \\\ncount  1212.000000   1212.000000   1212.000000   1212.000000  1212.000000   \nmean     99.968855   9983.055476  10496.207179  10495.835570     9.985880   \nstd       9.248719    941.082486    267.218490    278.729862     0.958969   \nmin      70.232469   6797.836298  10000.771287  10000.339782     6.759685   \n25%      94.195727   9428.209799  10284.999365  10263.060018     9.375400   \n50%      99.968855   9983.055476  10496.207179  10495.835570     9.985880   \n75%     105.397439  10491.489465  10700.871543  10718.409364    10.606376   \nmax     130.142499  13865.848591  11000.062311  10999.403374    13.828922   \n\n       ...          x822          x823         x824         x825         x826  \\\ncount  ...   1212.000000   1212.000000  1212.000000  1212.000000  1212.000000   \nmean   ...  10069.191241  13274.793928   812.316152   104.968652   105.063790   \nstd    ...    928.145687   2084.004479   173.323959     2.692260     2.688044   \nmin    ...   7109.997185   4100.700865   164.997735   100.040624   100.015930   \n25%    ...   9479.523877  12076.791406   702.078405   102.864339   102.902380   \n50%    ...  10069.191241  13274.793928   809.042463   104.968652   105.063790   \n75%    ...  10648.249140  14431.290607   911.343060   106.993646   107.185396   \nmax    ...  13173.145338  24901.251674  1589.225040   110.072565   110.069056   \n\n              x827         x828         x829         x830          x831  \ncount  1212.000000  1212.000000  1212.000000  1212.000000   1212.000000  \nmean   2482.685073     2.725659  1359.981226  1052.256384   9981.085085  \nstd     500.922343     0.253089   255.066942    28.192174    973.447237  \nmin     750.038434     1.590647   663.173673  1000.067137   6383.771227  \n25%    2181.823042     2.557012  1194.652957  1030.447895   9382.893669  \n50%    2482.685073     2.725659  1359.981226  1052.256384   9981.085085  \n75%    2743.530473     2.868703  1517.190330  1076.100611  10584.942325  \nmax    4904.988601     3.795277  2506.104650  1099.975679  13265.026039  \n\n[8 rows x 832 columns]",
      "text/html": "<div>\n<style scoped>\n    .dataframe tbody tr th:only-of-type {\n        vertical-align: middle;\n    }\n\n    .dataframe tbody tr th {\n        vertical-align: top;\n    }\n\n    .dataframe thead th {\n        text-align: right;\n    }\n</style>\n<table border=\"1\" class=\"dataframe\">\n  <thead>\n    <tr style=\"text-align: right;\">\n      <th></th>\n      <th>x0</th>\n      <th>x1</th>\n      <th>x2</th>\n      <th>x3</th>\n      <th>x4</th>\n      <th>x5</th>\n      <th>x6</th>\n      <th>x7</th>\n      <th>x8</th>\n      <th>x9</th>\n      <th>...</th>\n      <th>x822</th>\n      <th>x823</th>\n      <th>x824</th>\n      <th>x825</th>\n      <th>x826</th>\n      <th>x827</th>\n      <th>x828</th>\n      <th>x829</th>\n      <th>x830</th>\n      <th>x831</th>\n    </tr>\n  </thead>\n  <tbody>\n    <tr>\n      <th>count</th>\n      <td>1212.000000</td>\n      <td>1212.000000</td>\n      <td>1212.000000</td>\n      <td>1212.000000</td>\n      <td>1212.000000</td>\n      <td>1212.000000</td>\n      <td>1212.000000</td>\n      <td>1212.000000</td>\n      <td>1212.000000</td>\n      <td>1212.000000</td>\n      <td>...</td>\n      <td>1212.000000</td>\n      <td>1212.000000</td>\n      <td>1212.000000</td>\n      <td>1212.000000</td>\n      <td>1212.000000</td>\n      <td>1212.000000</td>\n      <td>1212.000000</td>\n      <td>1212.000000</td>\n      <td>1212.000000</td>\n      <td>1212.000000</td>\n    </tr>\n    <tr>\n      <th>mean</th>\n      <td>15220.402957</td>\n      <td>10950.160761</td>\n      <td>3430.837498</td>\n      <td>100002.281022</td>\n      <td>105.070358</td>\n      <td>99.968855</td>\n      <td>9983.055476</td>\n      <td>10496.207179</td>\n      <td>10495.835570</td>\n      <td>9.985880</td>\n      <td>...</td>\n      <td>10069.191241</td>\n      <td>13274.793928</td>\n      <td>812.316152</td>\n      <td>104.968652</td>\n      <td>105.063790</td>\n      <td>2482.685073</td>\n      <td>2.725659</td>\n      <td>1359.981226</td>\n      <td>1052.256384</td>\n      <td>9981.085085</td>\n    </tr>\n    <tr>\n      <th>std</th>\n      <td>2226.067754</td>\n      <td>1515.160528</td>\n      <td>427.016139</td>\n      <td>9336.184837</td>\n      <td>2.746611</td>\n      <td>9.248719</td>\n      <td>941.082486</td>\n      <td>267.218490</td>\n      <td>278.729862</td>\n      <td>0.958969</td>\n      <td>...</td>\n      <td>928.145687</td>\n      <td>2084.004479</td>\n      <td>173.323959</td>\n      <td>2.692260</td>\n      <td>2.688044</td>\n      <td>500.922343</td>\n      <td>0.253089</td>\n      <td>255.066942</td>\n      <td>28.192174</td>\n      <td>973.447237</td>\n    </tr>\n    <tr>\n      <th>min</th>\n      <td>5636.623777</td>\n      <td>6764.060541</td>\n      <td>1849.453269</td>\n      <td>65828.916291</td>\n      <td>100.056578</td>\n      <td>70.232469</td>\n      <td>6797.836298</td>\n      <td>10000.771287</td>\n      <td>10000.339782</td>\n      <td>6.759685</td>\n      <td>...</td>\n      <td>7109.997185</td>\n      <td>4100.700865</td>\n      <td>164.997735</td>\n      <td>100.040624</td>\n      <td>100.015930</td>\n      <td>750.038434</td>\n      <td>1.590647</td>\n      <td>663.173673</td>\n      <td>1000.067137</td>\n      <td>6383.771227</td>\n    </tr>\n    <tr>\n      <th>25%</th>\n      <td>13931.809724</td>\n      <td>9926.530547</td>\n      <td>3170.385944</td>\n      <td>94358.738184</td>\n      <td>102.811093</td>\n      <td>94.195727</td>\n      <td>9428.209799</td>\n      <td>10284.999365</td>\n      <td>10263.060018</td>\n      <td>9.375400</td>\n      <td>...</td>\n      <td>9479.523877</td>\n      <td>12076.791406</td>\n      <td>702.078405</td>\n      <td>102.864339</td>\n      <td>102.902380</td>\n      <td>2181.823042</td>\n      <td>2.557012</td>\n      <td>1194.652957</td>\n      <td>1030.447895</td>\n      <td>9382.893669</td>\n    </tr>\n    <tr>\n      <th>50%</th>\n      <td>15220.402957</td>\n      <td>10950.160761</td>\n      <td>3430.837498</td>\n      <td>100002.281022</td>\n      <td>105.070358</td>\n      <td>99.968855</td>\n      <td>9983.055476</td>\n      <td>10496.207179</td>\n      <td>10495.835570</td>\n      <td>9.985880</td>\n      <td>...</td>\n      <td>10069.191241</td>\n      <td>13274.793928</td>\n      <td>809.042463</td>\n      <td>104.968652</td>\n      <td>105.063790</td>\n      <td>2482.685073</td>\n      <td>2.725659</td>\n      <td>1359.981226</td>\n      <td>1052.256384</td>\n      <td>9981.085085</td>\n    </tr>\n    <tr>\n      <th>75%</th>\n      <td>16485.603116</td>\n      <td>11751.038613</td>\n      <td>3668.158481</td>\n      <td>105531.874497</td>\n      <td>107.353976</td>\n      <td>105.397439</td>\n      <td>10491.489465</td>\n      <td>10700.871543</td>\n      <td>10718.409364</td>\n      <td>10.606376</td>\n      <td>...</td>\n      <td>10648.249140</td>\n      <td>14431.290607</td>\n      <td>911.343060</td>\n      <td>106.993646</td>\n      <td>107.185396</td>\n      <td>2743.530473</td>\n      <td>2.868703</td>\n      <td>1517.190330</td>\n      <td>1076.100611</td>\n      <td>10584.942325</td>\n    </tr>\n    <tr>\n      <th>max</th>\n      <td>28273.690135</td>\n      <td>17777.338221</td>\n      <td>5622.951648</td>\n      <td>133145.632257</td>\n      <td>110.087261</td>\n      <td>130.142499</td>\n      <td>13865.848591</td>\n      <td>11000.062311</td>\n      <td>10999.403374</td>\n      <td>13.828922</td>\n      <td>...</td>\n      <td>13173.145338</td>\n      <td>24901.251674</td>\n      <td>1589.225040</td>\n      <td>110.072565</td>\n      <td>110.069056</td>\n      <td>4904.988601</td>\n      <td>3.795277</td>\n      <td>2506.104650</td>\n      <td>1099.975679</td>\n      <td>13265.026039</td>\n    </tr>\n  </tbody>\n</table>\n<p>8 rows × 832 columns</p>\n</div>"
     },
     "execution_count": 15,
     "metadata": {},
     "output_type": "execute_result"
    }
   ],
   "source": [
    "X.describe()"
   ],
   "metadata": {
    "collapsed": false
   }
  },
  {
   "cell_type": "code",
   "execution_count": 16,
   "outputs": [
    {
     "data": {
      "text/plain": "\"\\n\\nmodel=IsolationForest(n_estimators=100,max_samples='auto',contamination=float(0.2),random_state=np.random.RandomState(42))\\nmodel.fit(x_train)\\nx_train['anomaly'] = model.predict(x_train)\\ny_train['anomaly'] = x_train['anomaly']\\nx_train['anomaly'].value_counts()\\nx_train = x_train[x_train.anomaly != -1]\\ny_train = y_train[y_train.anomaly != -1]\\n\\nx_train.drop('anomaly',axis=1,inplace=True)\\ny_train.drop('anomaly',axis=1,inplace=True)\\n\""
     },
     "execution_count": 16,
     "metadata": {},
     "output_type": "execute_result"
    }
   ],
   "source": [
    "'''\n",
    "\n",
    "model=IsolationForest(n_estimators=100,max_samples='auto',contamination=float(0.2),random_state=np.random.RandomState(42))\n",
    "model.fit(x_train)\n",
    "x_train['anomaly'] = model.predict(x_train)\n",
    "y_train['anomaly'] = x_train['anomaly']\n",
    "x_train['anomaly'].value_counts()\n",
    "x_train = x_train[x_train.anomaly != -1]\n",
    "y_train = y_train[y_train.anomaly != -1]\n",
    "\n",
    "x_train.drop('anomaly',axis=1,inplace=True)\n",
    "y_train.drop('anomaly',axis=1,inplace=True)\n",
    "'''"
   ],
   "metadata": {
    "collapsed": false
   }
  },
  {
   "cell_type": "code",
   "execution_count": 17,
   "outputs": [],
   "source": [
    "selector = VarianceThreshold()\n",
    "x_train_tmp = selector.fit_transform(X,y)"
   ],
   "metadata": {
    "collapsed": false
   }
  },
  {
   "cell_type": "code",
   "execution_count": 18,
   "outputs": [],
   "source": [
    "x_train_tmp = pd.DataFrame(x_train_tmp)"
   ],
   "metadata": {
    "collapsed": false
   }
  },
  {
   "cell_type": "code",
   "execution_count": 19,
   "outputs": [
    {
     "name": "stdout",
     "output_type": "stream",
     "text": [
      "[featsel] Scaling data...done.\n",
      "[Parallel(n_jobs=3)]: Using backend LokyBackend with 3 concurrent workers.\n"
     ]
    },
    {
     "name": "stderr",
     "output_type": "stream",
     "text": [
      "/home/francescog/ETH/ETH_AML_projects_2022/task_1/venv/lib/python3.9/site-packages/sklearn/utils/validation.py:1111: DataConversionWarning: A column-vector y was passed when a 1d array was expected. Please change the shape of y to (n_samples, ), for example using ravel().\n",
      "  y = column_or_1d(y, warn=True)\n"
     ]
    },
    {
     "name": "stdout",
     "output_type": "stream",
     "text": [
      "[Parallel(n_jobs=3)]: Done   1 tasks      | elapsed:   31.8s\n",
      "[Parallel(n_jobs=3)]: Done   2 out of   6 | elapsed:   32.6s remaining:  1.1min\n",
      "[Parallel(n_jobs=3)]: Done   3 out of   6 | elapsed:   35.1s remaining:   35.1s\n",
      "[Parallel(n_jobs=3)]: Done   4 out of   6 | elapsed:  1.1min remaining:   33.2s\n",
      "[Parallel(n_jobs=3)]: Done   6 out of   6 | elapsed:  1.1min remaining:    0.0s\n",
      "[Parallel(n_jobs=3)]: Done   6 out of   6 | elapsed:  1.1min finished\n",
      "[featsel] 39 features after 6 feature selection runs\n",
      "[featsel] 39 features after correlation filtering\n",
      "[featsel] 18 features after noise filtering\n"
     ]
    }
   ],
   "source": [
    "fsel = FeatureSelector(\n",
    "        problem_type='regression',\n",
    "        featsel_runs=6,\n",
    "        keep=None,\n",
    "        n_jobs=3,\n",
    "        verbose=1)\n",
    "\n",
    "new_X = fsel.fit_transform(x_train_tmp, y)"
   ],
   "metadata": {
    "collapsed": false
   }
  },
  {
   "cell_type": "code",
   "execution_count": 20,
   "outputs": [
    {
     "data": {
      "text/plain": "array([ 89, 823, 456, 722, 230, 114, 637,  92, 157, 815, 824, 475, 483,\n       192, 323, 463, 707, 226])"
     },
     "execution_count": 20,
     "metadata": {},
     "output_type": "execute_result"
    }
   ],
   "source": [
    "new_X.columns.values"
   ],
   "metadata": {
    "collapsed": false
   }
  },
  {
   "cell_type": "code",
   "execution_count": 21,
   "outputs": [],
   "source": [
    "df_train = pd.DataFrame(X, columns=X.columns)"
   ],
   "metadata": {
    "collapsed": false
   }
  },
  {
   "cell_type": "code",
   "execution_count": 22,
   "outputs": [
    {
     "name": "stdout",
     "output_type": "stream",
     "text": [
      "89\n",
      "92\n",
      "114\n",
      "157\n",
      "192\n",
      "226\n",
      "230\n",
      "323\n",
      "456\n",
      "463\n",
      "475\n",
      "483\n",
      "637\n",
      "707\n",
      "722\n",
      "815\n",
      "823\n",
      "824\n"
     ]
    },
    {
     "data": {
      "text/plain": "       count          mean           std           min           25%  \\\nx89   1212.0  1.073869e+04   1842.800763  2.230315e+03  9.670812e+03   \nx92   1212.0  2.722782e+00      0.264929  1.934860e+00  2.551269e+00   \nx114  1212.0  1.529238e+00      0.126106  1.089470e+00  1.447132e+00   \nx157  1212.0  1.050889e+04    274.955251  1.000016e+04  1.029509e+04   \nx192  1212.0  1.049241e+06  27562.110574  1.000071e+06  1.024597e+06   \nx226  1212.0  1.003321e+02      9.371826  6.754283e+01  9.493066e+01   \nx230  1212.0 -9.362691e+04  12217.936104 -1.724500e+05 -1.001624e+05   \nx323  1212.0  9.994556e+05  92032.797177  7.127500e+05  9.416122e+05   \nx456  1212.0  1.402570e+03    205.664867  4.870934e+02  1.282059e+03   \nx463  1212.0  9.993244e+05  91074.468837  6.439657e+05  9.417001e+05   \nx475  1212.0  9.983578e+02     92.776473  6.443879e+02  9.472172e+02   \nx483  1212.0  9.953721e+00      0.967469  6.476591e+00  9.341968e+00   \nx637  1212.0  1.049177e+06  27611.119334  1.000329e+06  1.026365e+06   \nx707  1212.0  1.049943e+06  27450.577300  1.000067e+06  1.027180e+06   \nx722  1212.0  1.001781e+02      9.292279  6.953422e+01  9.430113e+01   \nx815  1212.0  8.969633e+05      0.027845  8.969632e+05  8.969633e+05   \nx823  1212.0  1.327479e+04   2084.004479  4.100701e+03  1.207679e+04   \nx824  1212.0  8.123162e+02    173.323959  1.649977e+02  7.020784e+02   \n\n               50%           75%           max  \nx89   1.073869e+04  1.171302e+04  2.057098e+04  \nx92   2.722582e+00  2.873128e+00  4.044393e+00  \nx114  1.529238e+00  1.604443e+00  2.176144e+00  \nx157  1.050889e+04  1.073084e+04  1.099622e+04  \nx192  1.049241e+06  1.071581e+06  1.099969e+06  \nx226  1.003321e+02  1.061245e+02  1.303882e+02  \nx230 -9.362691e+04 -8.703411e+04 -2.848904e+04  \nx323  9.994556e+05  1.057160e+06  1.351889e+06  \nx456  1.402570e+03  1.520269e+03  3.075856e+03  \nx463  9.993244e+05  1.058635e+06  1.320130e+06  \nx475  9.983578e+02  1.050838e+03  1.334119e+03  \nx483  9.953721e+00  1.055738e+01  1.337498e+01  \nx637  1.049177e+06  1.072268e+06  1.099951e+06  \nx707  1.049943e+06  1.072964e+06  1.099983e+06  \nx722  1.001781e+02  1.055892e+02  1.327008e+02  \nx815  8.969633e+05  8.969633e+05  8.969633e+05  \nx823  1.327479e+04  1.443129e+04  2.490125e+04  \nx824  8.090425e+02  9.113431e+02  1.589225e+03  ",
      "text/html": "<div>\n<style scoped>\n    .dataframe tbody tr th:only-of-type {\n        vertical-align: middle;\n    }\n\n    .dataframe tbody tr th {\n        vertical-align: top;\n    }\n\n    .dataframe thead th {\n        text-align: right;\n    }\n</style>\n<table border=\"1\" class=\"dataframe\">\n  <thead>\n    <tr style=\"text-align: right;\">\n      <th></th>\n      <th>count</th>\n      <th>mean</th>\n      <th>std</th>\n      <th>min</th>\n      <th>25%</th>\n      <th>50%</th>\n      <th>75%</th>\n      <th>max</th>\n    </tr>\n  </thead>\n  <tbody>\n    <tr>\n      <th>x89</th>\n      <td>1212.0</td>\n      <td>1.073869e+04</td>\n      <td>1842.800763</td>\n      <td>2.230315e+03</td>\n      <td>9.670812e+03</td>\n      <td>1.073869e+04</td>\n      <td>1.171302e+04</td>\n      <td>2.057098e+04</td>\n    </tr>\n    <tr>\n      <th>x92</th>\n      <td>1212.0</td>\n      <td>2.722782e+00</td>\n      <td>0.264929</td>\n      <td>1.934860e+00</td>\n      <td>2.551269e+00</td>\n      <td>2.722582e+00</td>\n      <td>2.873128e+00</td>\n      <td>4.044393e+00</td>\n    </tr>\n    <tr>\n      <th>x114</th>\n      <td>1212.0</td>\n      <td>1.529238e+00</td>\n      <td>0.126106</td>\n      <td>1.089470e+00</td>\n      <td>1.447132e+00</td>\n      <td>1.529238e+00</td>\n      <td>1.604443e+00</td>\n      <td>2.176144e+00</td>\n    </tr>\n    <tr>\n      <th>x157</th>\n      <td>1212.0</td>\n      <td>1.050889e+04</td>\n      <td>274.955251</td>\n      <td>1.000016e+04</td>\n      <td>1.029509e+04</td>\n      <td>1.050889e+04</td>\n      <td>1.073084e+04</td>\n      <td>1.099622e+04</td>\n    </tr>\n    <tr>\n      <th>x192</th>\n      <td>1212.0</td>\n      <td>1.049241e+06</td>\n      <td>27562.110574</td>\n      <td>1.000071e+06</td>\n      <td>1.024597e+06</td>\n      <td>1.049241e+06</td>\n      <td>1.071581e+06</td>\n      <td>1.099969e+06</td>\n    </tr>\n    <tr>\n      <th>x226</th>\n      <td>1212.0</td>\n      <td>1.003321e+02</td>\n      <td>9.371826</td>\n      <td>6.754283e+01</td>\n      <td>9.493066e+01</td>\n      <td>1.003321e+02</td>\n      <td>1.061245e+02</td>\n      <td>1.303882e+02</td>\n    </tr>\n    <tr>\n      <th>x230</th>\n      <td>1212.0</td>\n      <td>-9.362691e+04</td>\n      <td>12217.936104</td>\n      <td>-1.724500e+05</td>\n      <td>-1.001624e+05</td>\n      <td>-9.362691e+04</td>\n      <td>-8.703411e+04</td>\n      <td>-2.848904e+04</td>\n    </tr>\n    <tr>\n      <th>x323</th>\n      <td>1212.0</td>\n      <td>9.994556e+05</td>\n      <td>92032.797177</td>\n      <td>7.127500e+05</td>\n      <td>9.416122e+05</td>\n      <td>9.994556e+05</td>\n      <td>1.057160e+06</td>\n      <td>1.351889e+06</td>\n    </tr>\n    <tr>\n      <th>x456</th>\n      <td>1212.0</td>\n      <td>1.402570e+03</td>\n      <td>205.664867</td>\n      <td>4.870934e+02</td>\n      <td>1.282059e+03</td>\n      <td>1.402570e+03</td>\n      <td>1.520269e+03</td>\n      <td>3.075856e+03</td>\n    </tr>\n    <tr>\n      <th>x463</th>\n      <td>1212.0</td>\n      <td>9.993244e+05</td>\n      <td>91074.468837</td>\n      <td>6.439657e+05</td>\n      <td>9.417001e+05</td>\n      <td>9.993244e+05</td>\n      <td>1.058635e+06</td>\n      <td>1.320130e+06</td>\n    </tr>\n    <tr>\n      <th>x475</th>\n      <td>1212.0</td>\n      <td>9.983578e+02</td>\n      <td>92.776473</td>\n      <td>6.443879e+02</td>\n      <td>9.472172e+02</td>\n      <td>9.983578e+02</td>\n      <td>1.050838e+03</td>\n      <td>1.334119e+03</td>\n    </tr>\n    <tr>\n      <th>x483</th>\n      <td>1212.0</td>\n      <td>9.953721e+00</td>\n      <td>0.967469</td>\n      <td>6.476591e+00</td>\n      <td>9.341968e+00</td>\n      <td>9.953721e+00</td>\n      <td>1.055738e+01</td>\n      <td>1.337498e+01</td>\n    </tr>\n    <tr>\n      <th>x637</th>\n      <td>1212.0</td>\n      <td>1.049177e+06</td>\n      <td>27611.119334</td>\n      <td>1.000329e+06</td>\n      <td>1.026365e+06</td>\n      <td>1.049177e+06</td>\n      <td>1.072268e+06</td>\n      <td>1.099951e+06</td>\n    </tr>\n    <tr>\n      <th>x707</th>\n      <td>1212.0</td>\n      <td>1.049943e+06</td>\n      <td>27450.577300</td>\n      <td>1.000067e+06</td>\n      <td>1.027180e+06</td>\n      <td>1.049943e+06</td>\n      <td>1.072964e+06</td>\n      <td>1.099983e+06</td>\n    </tr>\n    <tr>\n      <th>x722</th>\n      <td>1212.0</td>\n      <td>1.001781e+02</td>\n      <td>9.292279</td>\n      <td>6.953422e+01</td>\n      <td>9.430113e+01</td>\n      <td>1.001781e+02</td>\n      <td>1.055892e+02</td>\n      <td>1.327008e+02</td>\n    </tr>\n    <tr>\n      <th>x815</th>\n      <td>1212.0</td>\n      <td>8.969633e+05</td>\n      <td>0.027845</td>\n      <td>8.969632e+05</td>\n      <td>8.969633e+05</td>\n      <td>8.969633e+05</td>\n      <td>8.969633e+05</td>\n      <td>8.969633e+05</td>\n    </tr>\n    <tr>\n      <th>x823</th>\n      <td>1212.0</td>\n      <td>1.327479e+04</td>\n      <td>2084.004479</td>\n      <td>4.100701e+03</td>\n      <td>1.207679e+04</td>\n      <td>1.327479e+04</td>\n      <td>1.443129e+04</td>\n      <td>2.490125e+04</td>\n    </tr>\n    <tr>\n      <th>x824</th>\n      <td>1212.0</td>\n      <td>8.123162e+02</td>\n      <td>173.323959</td>\n      <td>1.649977e+02</td>\n      <td>7.020784e+02</td>\n      <td>8.090425e+02</td>\n      <td>9.113431e+02</td>\n      <td>1.589225e+03</td>\n    </tr>\n  </tbody>\n</table>\n</div>"
     },
     "execution_count": 22,
     "metadata": {},
     "output_type": "execute_result"
    }
   ],
   "source": [
    "dataset_selected_x = X.copy()\n",
    "\n",
    "accepted=new_X.columns.values\n",
    "\n",
    "for j in range(832):\n",
    "        if j in accepted:\n",
    "          print (j)\n",
    "        else:\n",
    "          del dataset_selected_x['x' + str(j)]\n",
    "\n",
    "train_stats = dataset_selected_x.describe()\n",
    "train_stats = train_stats.transpose()\n",
    "train_stats"
   ],
   "metadata": {
    "collapsed": false
   }
  },
  {
   "cell_type": "code",
   "execution_count": 24,
   "outputs": [],
   "source": [
    "dataset_selected_x.to_csv('X_preprocessed.csv')"
   ],
   "metadata": {
    "collapsed": false
   }
  },
  {
   "cell_type": "code",
   "execution_count": null,
   "outputs": [],
   "source": [],
   "metadata": {
    "collapsed": false
   }
  }
 ],
 "metadata": {
  "kernelspec": {
   "display_name": "Python 3",
   "language": "python",
   "name": "python3"
  },
  "language_info": {
   "codemirror_mode": {
    "name": "ipython",
    "version": 2
   },
   "file_extension": ".py",
   "mimetype": "text/x-python",
   "name": "python",
   "nbconvert_exporter": "python",
   "pygments_lexer": "ipython2",
   "version": "2.7.6"
  }
 },
 "nbformat": 4,
 "nbformat_minor": 0
}
