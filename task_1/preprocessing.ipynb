{
 "cells": [
  {
   "cell_type": "code",
   "execution_count": 1,
   "metadata": {
    "collapsed": true
   },
   "outputs": [],
   "source": [
    "import pandas as pd\n",
    "import numpy as np\n",
    "from autofeat import FeatureSelector\n",
    "from sklearn.feature_selection import VarianceThreshold\n",
    "from sklearn.impute import KNNImputer\n",
    "from sklearn.feature_selection import SelectKBest, f_regression\n",
    "from sklearn.ensemble import IsolationForest"
   ]
  },
  {
   "cell_type": "code",
   "execution_count": 2,
   "metadata": {
    "collapsed": false
   },
   "outputs": [
    {
     "data": {
      "text/plain": "               x0            x1           x2             x3          x4  \\\nid                                                                        \n0.0  14168.823171  10514.380717  3316.149698   94230.695124  102.386606   \n1.0  17757.037554           NaN  4101.016273   92959.527633         NaN   \n2.0  14226.656663  11029.642499          NaN  124055.600561  100.542483   \n3.0   8766.012436   7384.202998  2147.308418  100157.719990  104.855061   \n4.0  13801.016418  13269.493652  3408.316953   92048.527786  103.759758   \n\n             x5            x6            x7            x8         x9  ...  \\\nid                                                                    ...   \n0.0   92.677127  11108.748199  10866.505510  10837.622093  10.227734  ...   \n1.0   99.855168  10013.959449  10826.607494  10076.101597  11.436970  ...   \n2.0   92.860892           NaN  10492.342868           NaN  10.810076  ...   \n3.0  101.929026  10050.049932  10499.521099  10525.030989  10.092109  ...   \n4.0   95.789235   9667.353978  10750.783106  10618.800750  12.006773  ...   \n\n             x822          x823        x824        x825        x826  \\\nid                                                                    \n0.0           NaN  12352.094085  846.014651  105.132144  102.112809   \n1.0           NaN  16198.071494  776.084467  106.385590  103.472030   \n2.0  10329.704431  13976.063780  737.040332  103.671234  109.458246   \n3.0  10008.251395   6212.127347  329.044233  105.084488  104.858546   \n4.0  10095.782015  13772.061493         NaN         NaN  100.369834   \n\n            x827      x828         x829         x830          x831  \nid                                                                  \n0.0  2090.004260  2.691845  1234.374109  1000.784475   9285.751272  \n1.0  2474.051881  2.287976          NaN  1012.626705  11750.284764  \n2.0  2656.083281  2.843706   888.353607  1048.810385   9553.922728  \n3.0  1097.785204  2.732257   927.752967  1048.357330           NaN  \n4.0  2693.053231  2.702908  1471.354073  1071.284484   9423.533063  \n\n[5 rows x 832 columns]",
      "text/html": "<div>\n<style scoped>\n    .dataframe tbody tr th:only-of-type {\n        vertical-align: middle;\n    }\n\n    .dataframe tbody tr th {\n        vertical-align: top;\n    }\n\n    .dataframe thead th {\n        text-align: right;\n    }\n</style>\n<table border=\"1\" class=\"dataframe\">\n  <thead>\n    <tr style=\"text-align: right;\">\n      <th></th>\n      <th>x0</th>\n      <th>x1</th>\n      <th>x2</th>\n      <th>x3</th>\n      <th>x4</th>\n      <th>x5</th>\n      <th>x6</th>\n      <th>x7</th>\n      <th>x8</th>\n      <th>x9</th>\n      <th>...</th>\n      <th>x822</th>\n      <th>x823</th>\n      <th>x824</th>\n      <th>x825</th>\n      <th>x826</th>\n      <th>x827</th>\n      <th>x828</th>\n      <th>x829</th>\n      <th>x830</th>\n      <th>x831</th>\n    </tr>\n    <tr>\n      <th>id</th>\n      <th></th>\n      <th></th>\n      <th></th>\n      <th></th>\n      <th></th>\n      <th></th>\n      <th></th>\n      <th></th>\n      <th></th>\n      <th></th>\n      <th></th>\n      <th></th>\n      <th></th>\n      <th></th>\n      <th></th>\n      <th></th>\n      <th></th>\n      <th></th>\n      <th></th>\n      <th></th>\n      <th></th>\n    </tr>\n  </thead>\n  <tbody>\n    <tr>\n      <th>0.0</th>\n      <td>14168.823171</td>\n      <td>10514.380717</td>\n      <td>3316.149698</td>\n      <td>94230.695124</td>\n      <td>102.386606</td>\n      <td>92.677127</td>\n      <td>11108.748199</td>\n      <td>10866.505510</td>\n      <td>10837.622093</td>\n      <td>10.227734</td>\n      <td>...</td>\n      <td>NaN</td>\n      <td>12352.094085</td>\n      <td>846.014651</td>\n      <td>105.132144</td>\n      <td>102.112809</td>\n      <td>2090.004260</td>\n      <td>2.691845</td>\n      <td>1234.374109</td>\n      <td>1000.784475</td>\n      <td>9285.751272</td>\n    </tr>\n    <tr>\n      <th>1.0</th>\n      <td>17757.037554</td>\n      <td>NaN</td>\n      <td>4101.016273</td>\n      <td>92959.527633</td>\n      <td>NaN</td>\n      <td>99.855168</td>\n      <td>10013.959449</td>\n      <td>10826.607494</td>\n      <td>10076.101597</td>\n      <td>11.436970</td>\n      <td>...</td>\n      <td>NaN</td>\n      <td>16198.071494</td>\n      <td>776.084467</td>\n      <td>106.385590</td>\n      <td>103.472030</td>\n      <td>2474.051881</td>\n      <td>2.287976</td>\n      <td>NaN</td>\n      <td>1012.626705</td>\n      <td>11750.284764</td>\n    </tr>\n    <tr>\n      <th>2.0</th>\n      <td>14226.656663</td>\n      <td>11029.642499</td>\n      <td>NaN</td>\n      <td>124055.600561</td>\n      <td>100.542483</td>\n      <td>92.860892</td>\n      <td>NaN</td>\n      <td>10492.342868</td>\n      <td>NaN</td>\n      <td>10.810076</td>\n      <td>...</td>\n      <td>10329.704431</td>\n      <td>13976.063780</td>\n      <td>737.040332</td>\n      <td>103.671234</td>\n      <td>109.458246</td>\n      <td>2656.083281</td>\n      <td>2.843706</td>\n      <td>888.353607</td>\n      <td>1048.810385</td>\n      <td>9553.922728</td>\n    </tr>\n    <tr>\n      <th>3.0</th>\n      <td>8766.012436</td>\n      <td>7384.202998</td>\n      <td>2147.308418</td>\n      <td>100157.719990</td>\n      <td>104.855061</td>\n      <td>101.929026</td>\n      <td>10050.049932</td>\n      <td>10499.521099</td>\n      <td>10525.030989</td>\n      <td>10.092109</td>\n      <td>...</td>\n      <td>10008.251395</td>\n      <td>6212.127347</td>\n      <td>329.044233</td>\n      <td>105.084488</td>\n      <td>104.858546</td>\n      <td>1097.785204</td>\n      <td>2.732257</td>\n      <td>927.752967</td>\n      <td>1048.357330</td>\n      <td>NaN</td>\n    </tr>\n    <tr>\n      <th>4.0</th>\n      <td>13801.016418</td>\n      <td>13269.493652</td>\n      <td>3408.316953</td>\n      <td>92048.527786</td>\n      <td>103.759758</td>\n      <td>95.789235</td>\n      <td>9667.353978</td>\n      <td>10750.783106</td>\n      <td>10618.800750</td>\n      <td>12.006773</td>\n      <td>...</td>\n      <td>10095.782015</td>\n      <td>13772.061493</td>\n      <td>NaN</td>\n      <td>NaN</td>\n      <td>100.369834</td>\n      <td>2693.053231</td>\n      <td>2.702908</td>\n      <td>1471.354073</td>\n      <td>1071.284484</td>\n      <td>9423.533063</td>\n    </tr>\n  </tbody>\n</table>\n<p>5 rows × 832 columns</p>\n</div>"
     },
     "execution_count": 2,
     "metadata": {},
     "output_type": "execute_result"
    }
   ],
   "source": [
    "raw_dataset_x = pd.read_csv('X_train.csv',index_col=['id'])\n",
    "X = raw_dataset_x.copy()\n",
    "X.head()"
   ]
  },
  {
   "cell_type": "code",
   "execution_count": 3,
   "metadata": {
    "collapsed": false
   },
   "outputs": [
    {
     "data": {
      "text/plain": "        y\nid       \n0.0  74.0\n1.0  51.0\n2.0  70.0\n3.0  52.0\n4.0  85.0",
      "text/html": "<div>\n<style scoped>\n    .dataframe tbody tr th:only-of-type {\n        vertical-align: middle;\n    }\n\n    .dataframe tbody tr th {\n        vertical-align: top;\n    }\n\n    .dataframe thead th {\n        text-align: right;\n    }\n</style>\n<table border=\"1\" class=\"dataframe\">\n  <thead>\n    <tr style=\"text-align: right;\">\n      <th></th>\n      <th>y</th>\n    </tr>\n    <tr>\n      <th>id</th>\n      <th></th>\n    </tr>\n  </thead>\n  <tbody>\n    <tr>\n      <th>0.0</th>\n      <td>74.0</td>\n    </tr>\n    <tr>\n      <th>1.0</th>\n      <td>51.0</td>\n    </tr>\n    <tr>\n      <th>2.0</th>\n      <td>70.0</td>\n    </tr>\n    <tr>\n      <th>3.0</th>\n      <td>52.0</td>\n    </tr>\n    <tr>\n      <th>4.0</th>\n      <td>85.0</td>\n    </tr>\n  </tbody>\n</table>\n</div>"
     },
     "execution_count": 3,
     "metadata": {},
     "output_type": "execute_result"
    }
   ],
   "source": [
    "raw_dataset_y = pd.read_csv('y_train.csv',index_col=['id'])\n",
    "y = raw_dataset_y.copy()\n",
    "y.head()"
   ]
  },
  {
   "cell_type": "code",
   "execution_count": 4,
   "metadata": {
    "collapsed": false
   },
   "outputs": [
    {
     "data": {
      "text/plain": "x0       91\nx1       84\nx2       88\nx3       91\nx4       74\n       ... \nx827    101\nx828     95\nx829     92\nx830     80\nx831     96\nLength: 832, dtype: int64"
     },
     "execution_count": 4,
     "metadata": {},
     "output_type": "execute_result"
    }
   ],
   "source": [
    "missing_values = X.isna().sum()\n",
    "missing_values"
   ]
  },
  {
   "cell_type": "code",
   "execution_count": 5,
   "outputs": [
    {
     "name": "stdout",
     "output_type": "stream",
     "text": [
      "x104   [ 0. nan]\n",
      "x129   [ 0. nan]\n",
      "x489   [ 0. nan]\n",
      "x530   [ 0. nan]\n"
     ]
    }
   ],
   "source": [
    "for col in X.columns[X.nunique(dropna = False) <= 100]:\n",
    "    print(col, \" \", X[col].unique())"
   ],
   "metadata": {
    "collapsed": false
   }
  },
  {
   "cell_type": "code",
   "execution_count": 6,
   "outputs": [],
   "source": [
    "X.drop(columns = X.columns[X.nunique(dropna = False) <= 100], inplace = True)"
   ],
   "metadata": {
    "collapsed": false
   }
  },
  {
   "cell_type": "code",
   "execution_count": 7,
   "metadata": {
    "collapsed": false
   },
   "outputs": [],
   "source": [
    "#X = X.fillna(X.mean())\n",
    "imputer = KNNImputer(n_neighbors=2)\n",
    "X = pd.DataFrame(imputer.fit_transform(X,y))"
   ]
  },
  {
   "cell_type": "code",
   "execution_count": 8,
   "metadata": {
    "collapsed": false
   },
   "outputs": [
    {
     "data": {
      "text/plain": "      count          mean           std           min           25%  \\\n171  1212.0 -1.836984e+22  2.502749e+22 -2.937933e+23 -2.861816e+22   \n661  1212.0  4.624869e+22  4.016835e+22 -6.392632e+22  2.722623e+22   \n592  1212.0 -1.796460e+14  1.260767e+14 -8.756492e+14 -2.348957e+14   \n130  1212.0 -1.385710e+06  2.094810e+05 -2.819624e+06 -1.499255e+06   \n372  1212.0 -5.413822e+05  7.268332e+04 -1.002561e+06 -5.818485e+05   \n..      ...           ...           ...           ...           ...   \n465  1212.0  1.051675e+06  2.746376e+04  1.000249e+06  1.029032e+06   \n419  1212.0  1.049964e+06  2.730667e+04  1.000304e+06  1.027581e+06   \n633  1212.0  1.050106e+06  2.788380e+04  1.000329e+06  1.026186e+06   \n329  1212.0  1.048944e+06  2.837349e+04  1.000372e+06  1.024670e+06   \n340  1212.0  2.768108e+06  3.503050e+05  1.168237e+06  2.585781e+06   \n\n              50%           75%           max  \n171 -1.384906e+22 -3.738343e+21  7.002915e+22  \n661  3.942073e+22  6.067928e+22  9.935455e+23  \n592 -1.486501e+14 -9.590108e+13  2.926746e+14  \n130 -1.364324e+06 -1.279261e+06 -5.738037e+05  \n372 -5.337267e+05 -5.051311e+05 -1.607672e+05  \n..            ...           ...           ...  \n465  1.053533e+06  1.072575e+06  1.099984e+06  \n419  1.050468e+06  1.072518e+06  1.099971e+06  \n633  1.051442e+06  1.072637e+06  1.099951e+06  \n329  1.050083e+06  1.070840e+06  1.099887e+06  \n340  2.723248e+06  2.950312e+06  5.032106e+06  \n\n[828 rows x 8 columns]",
      "text/html": "<div>\n<style scoped>\n    .dataframe tbody tr th:only-of-type {\n        vertical-align: middle;\n    }\n\n    .dataframe tbody tr th {\n        vertical-align: top;\n    }\n\n    .dataframe thead th {\n        text-align: right;\n    }\n</style>\n<table border=\"1\" class=\"dataframe\">\n  <thead>\n    <tr style=\"text-align: right;\">\n      <th></th>\n      <th>count</th>\n      <th>mean</th>\n      <th>std</th>\n      <th>min</th>\n      <th>25%</th>\n      <th>50%</th>\n      <th>75%</th>\n      <th>max</th>\n    </tr>\n  </thead>\n  <tbody>\n    <tr>\n      <th>171</th>\n      <td>1212.0</td>\n      <td>-1.836984e+22</td>\n      <td>2.502749e+22</td>\n      <td>-2.937933e+23</td>\n      <td>-2.861816e+22</td>\n      <td>-1.384906e+22</td>\n      <td>-3.738343e+21</td>\n      <td>7.002915e+22</td>\n    </tr>\n    <tr>\n      <th>661</th>\n      <td>1212.0</td>\n      <td>4.624869e+22</td>\n      <td>4.016835e+22</td>\n      <td>-6.392632e+22</td>\n      <td>2.722623e+22</td>\n      <td>3.942073e+22</td>\n      <td>6.067928e+22</td>\n      <td>9.935455e+23</td>\n    </tr>\n    <tr>\n      <th>592</th>\n      <td>1212.0</td>\n      <td>-1.796460e+14</td>\n      <td>1.260767e+14</td>\n      <td>-8.756492e+14</td>\n      <td>-2.348957e+14</td>\n      <td>-1.486501e+14</td>\n      <td>-9.590108e+13</td>\n      <td>2.926746e+14</td>\n    </tr>\n    <tr>\n      <th>130</th>\n      <td>1212.0</td>\n      <td>-1.385710e+06</td>\n      <td>2.094810e+05</td>\n      <td>-2.819624e+06</td>\n      <td>-1.499255e+06</td>\n      <td>-1.364324e+06</td>\n      <td>-1.279261e+06</td>\n      <td>-5.738037e+05</td>\n    </tr>\n    <tr>\n      <th>372</th>\n      <td>1212.0</td>\n      <td>-5.413822e+05</td>\n      <td>7.268332e+04</td>\n      <td>-1.002561e+06</td>\n      <td>-5.818485e+05</td>\n      <td>-5.337267e+05</td>\n      <td>-5.051311e+05</td>\n      <td>-1.607672e+05</td>\n    </tr>\n    <tr>\n      <th>...</th>\n      <td>...</td>\n      <td>...</td>\n      <td>...</td>\n      <td>...</td>\n      <td>...</td>\n      <td>...</td>\n      <td>...</td>\n      <td>...</td>\n    </tr>\n    <tr>\n      <th>465</th>\n      <td>1212.0</td>\n      <td>1.051675e+06</td>\n      <td>2.746376e+04</td>\n      <td>1.000249e+06</td>\n      <td>1.029032e+06</td>\n      <td>1.053533e+06</td>\n      <td>1.072575e+06</td>\n      <td>1.099984e+06</td>\n    </tr>\n    <tr>\n      <th>419</th>\n      <td>1212.0</td>\n      <td>1.049964e+06</td>\n      <td>2.730667e+04</td>\n      <td>1.000304e+06</td>\n      <td>1.027581e+06</td>\n      <td>1.050468e+06</td>\n      <td>1.072518e+06</td>\n      <td>1.099971e+06</td>\n    </tr>\n    <tr>\n      <th>633</th>\n      <td>1212.0</td>\n      <td>1.050106e+06</td>\n      <td>2.788380e+04</td>\n      <td>1.000329e+06</td>\n      <td>1.026186e+06</td>\n      <td>1.051442e+06</td>\n      <td>1.072637e+06</td>\n      <td>1.099951e+06</td>\n    </tr>\n    <tr>\n      <th>329</th>\n      <td>1212.0</td>\n      <td>1.048944e+06</td>\n      <td>2.837349e+04</td>\n      <td>1.000372e+06</td>\n      <td>1.024670e+06</td>\n      <td>1.050083e+06</td>\n      <td>1.070840e+06</td>\n      <td>1.099887e+06</td>\n    </tr>\n    <tr>\n      <th>340</th>\n      <td>1212.0</td>\n      <td>2.768108e+06</td>\n      <td>3.503050e+05</td>\n      <td>1.168237e+06</td>\n      <td>2.585781e+06</td>\n      <td>2.723248e+06</td>\n      <td>2.950312e+06</td>\n      <td>5.032106e+06</td>\n    </tr>\n  </tbody>\n</table>\n<p>828 rows × 8 columns</p>\n</div>"
     },
     "execution_count": 8,
     "metadata": {},
     "output_type": "execute_result"
    }
   ],
   "source": [
    "X.describe().transpose().sort_values('min')"
   ]
  },
  {
   "cell_type": "code",
   "execution_count": 9,
   "metadata": {
    "collapsed": false
   },
   "outputs": [],
   "source": [
    "model=IsolationForest(n_estimators=100,max_samples='auto',contamination=float(0.2),random_state=np.random.RandomState(42))\n",
    "model.fit(X)\n",
    "X['anomaly'] = model.predict(X)\n",
    "y['anomaly'] = X['anomaly']\n",
    "X['anomaly'].value_counts()\n",
    "X = X[X.anomaly != -1]\n",
    "y = y[y.anomaly != -1]\n",
    "\n",
    "X.drop('anomaly',axis=1,inplace=True)\n",
    "y.drop('anomaly',axis=1,inplace=True)\n"
   ]
  },
  {
   "cell_type": "code",
   "execution_count": 10,
   "metadata": {
    "collapsed": false
   },
   "outputs": [
    {
     "name": "stderr",
     "output_type": "stream",
     "text": [
      "/home/francescog/ETH/ETH_AML_projects_2022/task_1/venv/lib/python3.9/site-packages/sklearn/utils/validation.py:1111: DataConversionWarning: A column-vector y was passed when a 1d array was expected. Please change the shape of y to (n_samples, ), for example using ravel().\n",
      "  y = column_or_1d(y, warn=True)\n",
      "/home/francescog/ETH/ETH_AML_projects_2022/task_1/venv/lib/python3.9/site-packages/sklearn/feature_selection/_univariate_selection.py:306: RuntimeWarning: invalid value encountered in sqrt\n",
      "  X_norms = np.sqrt(row_norms(X.T, squared=True) - n_samples * X_means**2)\n"
     ]
    },
    {
     "data": {
      "text/plain": "              2         23            27           29             40   \\\n0     3316.149698  2.823225   8945.065857  1665.073010 -442319.204404   \n1     4101.016273  2.677011  10407.086185  2115.015631 -564055.951889   \n2     3289.867648  2.702694   8063.053692  1985.045559 -451105.028773   \n4     3408.316953  2.647249   8426.068899  2700.034646 -478206.543121   \n6     3928.789039  2.754380  11373.050453  1556.069043 -543773.353065   \n...           ...       ...           ...          ...            ...   \n1206  3437.591663  2.700417   6677.045448  1615.056922 -374393.087183   \n1208  3442.619145  2.540225   9423.047150  2251.094278 -521774.326758   \n1209  3580.894003  2.873919   8443.094334  1779.050779 -489924.690574   \n1210  3159.167789  2.690725   8753.038127  2117.011836 -473393.482968   \n1211  3107.470343  2.710135   9354.521696  1818.092028 -442184.884357   \n\n                69            87        106           112           114  ...  \\\n0     299199.981189   9496.005953  2.194544  14114.997688  12802.203605  ...   \n1     383995.232158  11212.089706  2.261742  16292.423778   1921.015297  ...   \n2     304547.452877   9277.004195  2.375093  11899.476849   2167.802432  ...   \n4     324191.752487   8629.004273  2.239014  13843.961128   6424.918043  ...   \n6     367732.899574   8510.506873  2.120987  17004.907988  23824.758898  ...   \n...             ...           ...       ...           ...           ...  ...   \n1206  254412.666774   8510.506873  2.101966  12306.124090   3356.707347  ...   \n1208  353025.264014  10020.022198  2.240806  12829.056866   4141.182106  ...   \n1209  330968.805912   8685.026317  2.444754  14427.867597   2433.848973  ...   \n1210  317582.071472   8517.089186  2.427602  13121.156248   4703.596560  ...   \n1211  311920.619611   7389.022227  2.388852   7365.357069   3356.707347  ...   \n\n              722           727       730       741       744       762  \\\n0     4791.107191   9197.051884  2.512959  2.561577  2.886191  2.110701   \n1     6688.960032  12853.015438  2.476245  2.695044  2.723722  2.057154   \n2     4045.043798   9056.035902  2.574194  2.534789  2.652784  2.134853   \n4     5785.680263   9830.068890  2.211228  2.540963  2.597508  2.045608   \n6     6234.587981  10904.088779  2.398018  2.625697  2.735732  2.138059   \n...           ...           ...       ...       ...       ...       ...   \n1206  4494.686554   7721.096118  2.113575  2.563214  2.711036  1.908956   \n1208  6124.743194   9781.056572  2.259954  2.474671  2.672402  1.924956   \n1209  5069.867722  11616.067779  2.560814  2.783308  2.746683  2.368872   \n1210  4590.892701  10654.021613  2.385572  2.570085  2.569565  2.234898   \n1211  4586.580775   9524.040334  2.093543  2.378708  2.624852  2.191481   \n\n           765       773       797       813  \n0     2.333374  2.555374  2.305030  2.588126  \n1     2.052895  2.575797  2.384952  2.417485  \n2     2.334419  2.525839  2.477187  2.476064  \n4     2.152986  2.431158  2.263235  2.316878  \n6     2.264274  2.480709  2.284575  2.280422  \n...        ...       ...       ...       ...  \n1206  2.136680  2.496045  2.126682  2.095136  \n1208  2.304004  2.460164  2.306389  2.255477  \n1209  2.369319  2.421252  2.518431  2.485791  \n1210  2.329367  2.578617  2.493086  2.560172  \n1211  2.312418  2.469057  2.276201  2.443534  \n\n[969 rows x 100 columns]",
      "text/html": "<div>\n<style scoped>\n    .dataframe tbody tr th:only-of-type {\n        vertical-align: middle;\n    }\n\n    .dataframe tbody tr th {\n        vertical-align: top;\n    }\n\n    .dataframe thead th {\n        text-align: right;\n    }\n</style>\n<table border=\"1\" class=\"dataframe\">\n  <thead>\n    <tr style=\"text-align: right;\">\n      <th></th>\n      <th>2</th>\n      <th>23</th>\n      <th>27</th>\n      <th>29</th>\n      <th>40</th>\n      <th>69</th>\n      <th>87</th>\n      <th>106</th>\n      <th>112</th>\n      <th>114</th>\n      <th>...</th>\n      <th>722</th>\n      <th>727</th>\n      <th>730</th>\n      <th>741</th>\n      <th>744</th>\n      <th>762</th>\n      <th>765</th>\n      <th>773</th>\n      <th>797</th>\n      <th>813</th>\n    </tr>\n  </thead>\n  <tbody>\n    <tr>\n      <th>0</th>\n      <td>3316.149698</td>\n      <td>2.823225</td>\n      <td>8945.065857</td>\n      <td>1665.073010</td>\n      <td>-442319.204404</td>\n      <td>299199.981189</td>\n      <td>9496.005953</td>\n      <td>2.194544</td>\n      <td>14114.997688</td>\n      <td>12802.203605</td>\n      <td>...</td>\n      <td>4791.107191</td>\n      <td>9197.051884</td>\n      <td>2.512959</td>\n      <td>2.561577</td>\n      <td>2.886191</td>\n      <td>2.110701</td>\n      <td>2.333374</td>\n      <td>2.555374</td>\n      <td>2.305030</td>\n      <td>2.588126</td>\n    </tr>\n    <tr>\n      <th>1</th>\n      <td>4101.016273</td>\n      <td>2.677011</td>\n      <td>10407.086185</td>\n      <td>2115.015631</td>\n      <td>-564055.951889</td>\n      <td>383995.232158</td>\n      <td>11212.089706</td>\n      <td>2.261742</td>\n      <td>16292.423778</td>\n      <td>1921.015297</td>\n      <td>...</td>\n      <td>6688.960032</td>\n      <td>12853.015438</td>\n      <td>2.476245</td>\n      <td>2.695044</td>\n      <td>2.723722</td>\n      <td>2.057154</td>\n      <td>2.052895</td>\n      <td>2.575797</td>\n      <td>2.384952</td>\n      <td>2.417485</td>\n    </tr>\n    <tr>\n      <th>2</th>\n      <td>3289.867648</td>\n      <td>2.702694</td>\n      <td>8063.053692</td>\n      <td>1985.045559</td>\n      <td>-451105.028773</td>\n      <td>304547.452877</td>\n      <td>9277.004195</td>\n      <td>2.375093</td>\n      <td>11899.476849</td>\n      <td>2167.802432</td>\n      <td>...</td>\n      <td>4045.043798</td>\n      <td>9056.035902</td>\n      <td>2.574194</td>\n      <td>2.534789</td>\n      <td>2.652784</td>\n      <td>2.134853</td>\n      <td>2.334419</td>\n      <td>2.525839</td>\n      <td>2.477187</td>\n      <td>2.476064</td>\n    </tr>\n    <tr>\n      <th>4</th>\n      <td>3408.316953</td>\n      <td>2.647249</td>\n      <td>8426.068899</td>\n      <td>2700.034646</td>\n      <td>-478206.543121</td>\n      <td>324191.752487</td>\n      <td>8629.004273</td>\n      <td>2.239014</td>\n      <td>13843.961128</td>\n      <td>6424.918043</td>\n      <td>...</td>\n      <td>5785.680263</td>\n      <td>9830.068890</td>\n      <td>2.211228</td>\n      <td>2.540963</td>\n      <td>2.597508</td>\n      <td>2.045608</td>\n      <td>2.152986</td>\n      <td>2.431158</td>\n      <td>2.263235</td>\n      <td>2.316878</td>\n    </tr>\n    <tr>\n      <th>6</th>\n      <td>3928.789039</td>\n      <td>2.754380</td>\n      <td>11373.050453</td>\n      <td>1556.069043</td>\n      <td>-543773.353065</td>\n      <td>367732.899574</td>\n      <td>8510.506873</td>\n      <td>2.120987</td>\n      <td>17004.907988</td>\n      <td>23824.758898</td>\n      <td>...</td>\n      <td>6234.587981</td>\n      <td>10904.088779</td>\n      <td>2.398018</td>\n      <td>2.625697</td>\n      <td>2.735732</td>\n      <td>2.138059</td>\n      <td>2.264274</td>\n      <td>2.480709</td>\n      <td>2.284575</td>\n      <td>2.280422</td>\n    </tr>\n    <tr>\n      <th>...</th>\n      <td>...</td>\n      <td>...</td>\n      <td>...</td>\n      <td>...</td>\n      <td>...</td>\n      <td>...</td>\n      <td>...</td>\n      <td>...</td>\n      <td>...</td>\n      <td>...</td>\n      <td>...</td>\n      <td>...</td>\n      <td>...</td>\n      <td>...</td>\n      <td>...</td>\n      <td>...</td>\n      <td>...</td>\n      <td>...</td>\n      <td>...</td>\n      <td>...</td>\n      <td>...</td>\n    </tr>\n    <tr>\n      <th>1206</th>\n      <td>3437.591663</td>\n      <td>2.700417</td>\n      <td>6677.045448</td>\n      <td>1615.056922</td>\n      <td>-374393.087183</td>\n      <td>254412.666774</td>\n      <td>8510.506873</td>\n      <td>2.101966</td>\n      <td>12306.124090</td>\n      <td>3356.707347</td>\n      <td>...</td>\n      <td>4494.686554</td>\n      <td>7721.096118</td>\n      <td>2.113575</td>\n      <td>2.563214</td>\n      <td>2.711036</td>\n      <td>1.908956</td>\n      <td>2.136680</td>\n      <td>2.496045</td>\n      <td>2.126682</td>\n      <td>2.095136</td>\n    </tr>\n    <tr>\n      <th>1208</th>\n      <td>3442.619145</td>\n      <td>2.540225</td>\n      <td>9423.047150</td>\n      <td>2251.094278</td>\n      <td>-521774.326758</td>\n      <td>353025.264014</td>\n      <td>10020.022198</td>\n      <td>2.240806</td>\n      <td>12829.056866</td>\n      <td>4141.182106</td>\n      <td>...</td>\n      <td>6124.743194</td>\n      <td>9781.056572</td>\n      <td>2.259954</td>\n      <td>2.474671</td>\n      <td>2.672402</td>\n      <td>1.924956</td>\n      <td>2.304004</td>\n      <td>2.460164</td>\n      <td>2.306389</td>\n      <td>2.255477</td>\n    </tr>\n    <tr>\n      <th>1209</th>\n      <td>3580.894003</td>\n      <td>2.873919</td>\n      <td>8443.094334</td>\n      <td>1779.050779</td>\n      <td>-489924.690574</td>\n      <td>330968.805912</td>\n      <td>8685.026317</td>\n      <td>2.444754</td>\n      <td>14427.867597</td>\n      <td>2433.848973</td>\n      <td>...</td>\n      <td>5069.867722</td>\n      <td>11616.067779</td>\n      <td>2.560814</td>\n      <td>2.783308</td>\n      <td>2.746683</td>\n      <td>2.368872</td>\n      <td>2.369319</td>\n      <td>2.421252</td>\n      <td>2.518431</td>\n      <td>2.485791</td>\n    </tr>\n    <tr>\n      <th>1210</th>\n      <td>3159.167789</td>\n      <td>2.690725</td>\n      <td>8753.038127</td>\n      <td>2117.011836</td>\n      <td>-473393.482968</td>\n      <td>317582.071472</td>\n      <td>8517.089186</td>\n      <td>2.427602</td>\n      <td>13121.156248</td>\n      <td>4703.596560</td>\n      <td>...</td>\n      <td>4590.892701</td>\n      <td>10654.021613</td>\n      <td>2.385572</td>\n      <td>2.570085</td>\n      <td>2.569565</td>\n      <td>2.234898</td>\n      <td>2.329367</td>\n      <td>2.578617</td>\n      <td>2.493086</td>\n      <td>2.560172</td>\n    </tr>\n    <tr>\n      <th>1211</th>\n      <td>3107.470343</td>\n      <td>2.710135</td>\n      <td>9354.521696</td>\n      <td>1818.092028</td>\n      <td>-442184.884357</td>\n      <td>311920.619611</td>\n      <td>7389.022227</td>\n      <td>2.388852</td>\n      <td>7365.357069</td>\n      <td>3356.707347</td>\n      <td>...</td>\n      <td>4586.580775</td>\n      <td>9524.040334</td>\n      <td>2.093543</td>\n      <td>2.378708</td>\n      <td>2.624852</td>\n      <td>2.191481</td>\n      <td>2.312418</td>\n      <td>2.469057</td>\n      <td>2.276201</td>\n      <td>2.443534</td>\n    </tr>\n  </tbody>\n</table>\n<p>969 rows × 100 columns</p>\n</div>"
     },
     "execution_count": 10,
     "metadata": {},
     "output_type": "execute_result"
    }
   ],
   "source": [
    "# selector = VarianceThreshold()\n",
    "# x_train_tmp = selector.fit_transform(X,y)\n",
    "selector = SelectKBest(f_regression, k=100)\n",
    "selector.fit(X, y)\n",
    "cols = selector.get_support(indices=True)\n",
    "dataset_selected_x = X.iloc[:,cols]\n",
    "dataset_selected_x\n"
   ]
  },
  {
   "cell_type": "code",
   "execution_count": 11,
   "metadata": {},
   "outputs": [],
   "source": [
    "#new_X.describe()"
   ]
  },
  {
   "cell_type": "code",
   "execution_count": 12,
   "metadata": {
    "collapsed": false
   },
   "outputs": [],
   "source": [
    "#x_train_tmp = pd.DataFrame()"
   ]
  },
  {
   "cell_type": "code",
   "execution_count": 13,
   "metadata": {
    "collapsed": false
   },
   "outputs": [],
   "source": [
    "# fsel = FeatureSelector(\n",
    "#         problem_type='regression',\n",
    "#         featsel_runs=6,\n",
    "#         keep=None,\n",
    "#         n_jobs=3,\n",
    "#         verbose=1)\n",
    "\n",
    "# new_X = fsel.fit_transform(x_train_tmp, y)"
   ]
  },
  {
   "cell_type": "code",
   "execution_count": 14,
   "metadata": {
    "collapsed": false
   },
   "outputs": [],
   "source": [
    "#new_X.columns.values"
   ]
  },
  {
   "cell_type": "code",
   "execution_count": 15,
   "metadata": {
    "collapsed": false
   },
   "outputs": [],
   "source": [
    "\n",
    "\n",
    "# for j in range(832):\n",
    "#         if j in accepted:\n",
    "#           print (j)\n",
    "#         else:\n",
    "#           del dataset_selected_x[str(j)]\n",
    "#dataset_selected_x = dataset_selected_x.iloc[:,cols]\n",
    "# train_stats = dataset_selected_x.describe()\n",
    "# train_stats = train_stats.transpose()\n",
    "#dataset_selected_x"
   ]
  },
  {
   "cell_type": "code",
   "execution_count": 16,
   "metadata": {
    "collapsed": false
   },
   "outputs": [],
   "source": [
    "dataset_selected_x.to_csv('X_preprocessed.csv',index_label=\"id\")\n",
    "y.to_csv('y_preprocessed.csv',index_label=\"id\")"
   ]
  },
  {
   "cell_type": "code",
   "execution_count": 16,
   "metadata": {
    "collapsed": false
   },
   "outputs": [],
   "source": []
  }
 ],
 "metadata": {
  "kernelspec": {
   "display_name": "Python 3.10.8 64-bit (microsoft store)",
   "language": "python",
   "name": "python3"
  },
  "language_info": {
   "codemirror_mode": {
    "name": "ipython",
    "version": 3
   },
   "file_extension": ".py",
   "mimetype": "text/x-python",
   "name": "python",
   "nbconvert_exporter": "python",
   "pygments_lexer": "ipython3",
   "version": "3.10.8"
  },
  "vscode": {
   "interpreter": {
    "hash": "ca524ed4827e9cecae6a739c853fefb0a41e3c247e14c2213a90934a563a4762"
   }
  }
 },
 "nbformat": 4,
 "nbformat_minor": 0
}
